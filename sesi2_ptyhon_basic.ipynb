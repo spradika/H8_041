{
 "cells": [
  {
   "cell_type": "code",
   "execution_count": null,
   "metadata": {},
   "outputs": [],
   "source": [
    "# if statement\n",
    "if <expresion>:\n",
    "    <statement>       #jika benar truthy \n",
    "<following statement> #jika salah falsy\n",
    "#indentasi sangat berpengaruh"
   ]
  },
  {
   "cell_type": "code",
   "execution_count": 3,
   "metadata": {},
   "outputs": [
    {
     "name": "stdout",
     "output_type": "stream",
     "text": [
      "yes_1\n",
      "yes_4\n",
      "yes_5\n"
     ]
    }
   ],
   "source": [
    "#if statement hanya jalan jika benar/truthy\n",
    "\n",
    "x=0\n",
    "y=5\n",
    "\n",
    "if x < y:\n",
    "    print('yes_1')   #truthy\n",
    "    \n",
    "if y < x:\n",
    "    print(\"yes_2\")   #falsy\n",
    "    \n",
    "if x:\n",
    "    print(\"yes_3\")    #falsy karena 0=false selain 0 true\n",
    "    \n",
    "if y:\n",
    "    print(\"yes_4\")    #truthy\n",
    "    \n",
    "if 'aul' in \"graul\":  \n",
    "    print('yes_5')    #truthy\n",
    "    \n",
    "if 'qux' in ['foo','baz','bum']:    #falsy\n",
    "    print(\"yes_6\")\n",
    "    "
   ]
  },
  {
   "cell_type": "code",
   "execution_count": 4,
   "metadata": {},
   "outputs": [
    {
     "name": "stdout",
     "output_type": "stream",
     "text": [
      "outer bener\n",
      "jeda kondisi\n",
      "iner condition 2\n",
      "akhir outer condition\n",
      "setelah outer condition\n"
     ]
    }
   ],
   "source": [
    "#apakah line dijalankan                 yes   no\n",
    "#\n",
    "if 'foo' in [\"foo\",'baz','bar']:      # v             #truthy\n",
    "    print('outer bener')              # v\n",
    "    \n",
    "    if 10>20:                         # v             #falsy\n",
    "        print (\"inner condition 1\")   #      # v      #tidak dijalankan karena falsy\n",
    "        \n",
    "    print(\"jeda kondisi\")             # v\n",
    "    \n",
    "    if 10<20:                         # v             #truhty\n",
    "        print (\"iner condition 2\")    # v\n",
    "        \n",
    "    print(\"akhir outer condition\")    # v\n",
    "print (\"setelah outer condition\")     # v\n",
    "\n"
   ]
  },
  {
   "cell_type": "code",
   "execution_count": 4,
   "metadata": {},
   "outputs": [
    {
     "name": "stdout",
     "output_type": "stream",
     "text": [
      "bli majalah\n"
     ]
    }
   ],
   "source": [
    "# else dan elif clausea\n",
    "#else= jalan jika falsy statement (untuk command jika salah)\n",
    "#elif= klause if tambahan seperti and dan or\n",
    "\n",
    "harga_buku=5000\n",
    "harga_majalah=2000\n",
    "uang=2000\n",
    "\n",
    "if uang >= harga_buku: \n",
    "    print(\"bli buku\")\n",
    "elif uang >= harga_majalah:   \n",
    "    print(\"bli majalah\")\n",
    "else:\n",
    "    print('ga bli')"
   ]
  },
  {
   "cell_type": "code",
   "execution_count": 5,
   "metadata": {},
   "outputs": [
    {
     "name": "stdout",
     "output_type": "stream",
     "text": [
      "ga bli\n"
     ]
    }
   ],
   "source": [
    "if uang > harga_buku:\n",
    "    print(\"bli buku\")\n",
    "elif uang > harga_majalah:\n",
    "    print(\"bli majalah\")\n",
    "else:\n",
    "    print('ga bli')"
   ]
  },
  {
   "cell_type": "code",
   "execution_count": 6,
   "metadata": {},
   "outputs": [
    {
     "name": "stdout",
     "output_type": "stream",
     "text": [
      "saha sia\n",
      "aink macan\n"
     ]
    }
   ],
   "source": [
    "name=\"hacktiv8\"\n",
    "if name == \"fred\":\n",
    "    print(\"helo fred\")\n",
    "elif name == 'jon':\n",
    "    print('helo jon')\n",
    "elif name == 'bos':\n",
    "    print ('helo bos')\n",
    "else:\n",
    "    print (\"saha sia\")\n",
    "print (\"aink macan\")"
   ]
  },
  {
   "cell_type": "code",
   "execution_count": 5,
   "metadata": {},
   "outputs": [
    {
     "name": "stdout",
     "output_type": "stream",
     "text": [
      "good\n"
     ]
    }
   ],
   "source": [
    "if 'a' in \"bar\":        #truethy karena udah truethy, elif tidak jalan even itu truethy\n",
    "    print ('good')\n",
    "elif 1/3:               #falsy\n",
    "    print (\"moal aya\")\n",
    "elif 5<6:               #truethy               \n",
    "    print (\"ada\")\n",
    "elif var:\n",
    "    print ('ga da')"
   ]
  },
  {
   "cell_type": "code",
   "execution_count": null,
   "metadata": {},
   "outputs": [],
   "source": [
    "# one line if statement\n",
    "# if <expr>: <statement_1>; <statement_2>\n",
    "# elif: <statement_3>\n",
    "# else: <statement_4>"
   ]
  },
  {
   "cell_type": "code",
   "execution_count": 4,
   "metadata": {},
   "outputs": [
    {
     "name": "stdout",
     "output_type": "stream",
     "text": [
      "lets'go to the beach\n",
      "teen\n"
     ]
    }
   ],
   "source": [
    "# ternary operator\n",
    "# <expr1> if <conditional_expr> else <expr2>\n",
    "# conditional_expr akan dievaluasi dlu, \n",
    "# jika benar -> mengevaluasi <expr1> \n",
    "# jika salah <expr2>\n",
    "\n",
    "\n",
    "raining = False\n",
    "print (\"lets'go to the\", \"beach\" if not raining else \"library\")\n",
    "\n",
    "age = 12\n",
    "s = \"teen\" if age < 21 else \"adult\"\n",
    "print (s)"
   ]
  },
  {
   "cell_type": "code",
   "execution_count": 7,
   "metadata": {},
   "outputs": [],
   "source": [
    "# pass statement\n",
    "\n"
   ]
  },
  {
   "cell_type": "code",
   "execution_count": 5,
   "metadata": {},
   "outputs": [
    {
     "name": "stdout",
     "output_type": "stream",
     "text": [
      "4\n",
      "3\n",
      "2\n",
      "1\n",
      "0\n"
     ]
    }
   ],
   "source": [
    "# while\n",
    "x=5\n",
    "while x>0:     #jika x lebih besar dari nol x=5\n",
    "    x-=1       #execute x-1 (4)  \n",
    "    print(x)   # print 4\n",
    "    \n",
    "    #berikutnya x=4 dan seterusnya\n",
    "    #ketika x=0 maka while loop falsy ->stop\n",
    "    "
   ]
  },
  {
   "cell_type": "code",
   "execution_count": 10,
   "metadata": {},
   "outputs": [
    {
     "name": "stdout",
     "output_type": "stream",
     "text": [
      "4\n",
      "3\n",
      "loop end\n"
     ]
    }
   ],
   "source": [
    "# while break continue\n",
    "# break itu stop dan keluar block while\n",
    "# continue itu skip tapi tidak keluar while atau balik ke while\n",
    "\n",
    "n=5\n",
    "while n>0:\n",
    "    n-=1\n",
    "    if n==2:   #ketika truthy n=2, statement print(n) di skip langsung print(end loop) \n",
    "        break\n",
    "    print (n)\n",
    "print(\"loop end\")\n",
    "\n"
   ]
  },
  {
   "cell_type": "code",
   "execution_count": 9,
   "metadata": {},
   "outputs": [
    {
     "name": "stdout",
     "output_type": "stream",
     "text": [
      "4\n",
      "3\n",
      "1\n",
      "0\n",
      "loop end\n"
     ]
    }
   ],
   "source": [
    "n=5\n",
    "while n>0:\n",
    "    n-=1\n",
    "    if n==2:   #ketika truthy n=2, statement print(n) di skip balik ke while \n",
    "        continue\n",
    "    print (n)\n",
    "print(\"loop end\")"
   ]
  },
  {
   "cell_type": "code",
   "execution_count": 17,
   "metadata": {},
   "outputs": [
    {
     "name": "stdout",
     "output_type": "stream",
     "text": [
      "4\n",
      "3\n",
      "2\n",
      "1\n",
      "0\n",
      "stop\n"
     ]
    }
   ],
   "source": [
    "# else while\n",
    "s=5\n",
    "while s>0:\n",
    "    s-=1\n",
    "    print (s)\n",
    "else:\n",
    "    print (\"stop\")  #statement setelah while falsy "
   ]
  },
  {
   "cell_type": "code",
   "execution_count": 18,
   "metadata": {},
   "outputs": [
    {
     "name": "stdout",
     "output_type": "stream",
     "text": [
      "4\n",
      "3\n",
      "2\n"
     ]
    }
   ],
   "source": [
    "s=5\n",
    "while s>0:\n",
    "    s-=1\n",
    "    print (s)\n",
    "    if s==2:\n",
    "        break       #break artinya keluar block while, namun statement else falsy nya maka tidak jalan\n",
    "else:\n",
    "    print (\"stop\")  "
   ]
  },
  {
   "cell_type": "code",
   "execution_count": 9,
   "metadata": {},
   "outputs": [
    {
     "name": "stdout",
     "output_type": "stream",
     "text": [
      "10 is even\n",
      "9 is odd and not divisible by 3\n",
      "7 is odd and not divisible by 3\n",
      "6 is even\n",
      "4 is even\n",
      "3 is odd and not divisible by 3\n",
      "1 is odd and not divisible by 3\n"
     ]
    }
   ],
   "source": [
    "# review sesi 2 di sesi 3\n",
    "n=10\n",
    "while n>0:\n",
    "    if (n+1) % 3==0:\n",
    "        n -= 1\n",
    "        continue\n",
    "    elif n % 2  == 0:\n",
    "        print(n,'is even')\n",
    "    else:\n",
    "        print(n,'is odd and not divisible by 3')\n",
    "    n -= 1"
   ]
  },
  {
   "cell_type": "code",
   "execution_count": 10,
   "metadata": {},
   "outputs": [
    {
     "data": {
      "text/plain": [
       "2"
      ]
     },
     "execution_count": 10,
     "metadata": {},
     "output_type": "execute_result"
    }
   ],
   "source": [
    "11%3"
   ]
  },
  {
   "cell_type": "code",
   "execution_count": 18,
   "metadata": {},
   "outputs": [
    {
     "name": "stdout",
     "output_type": "stream",
     "text": [
      "helo alief\n",
      "helo aliya\n",
      "helo alisha\n"
     ]
    }
   ],
   "source": [
    "# for looping\n",
    "# for var in <iterable>:   iterable adalah kumpulan objek, bisa list, tuple, dictionary\n",
    "#    <statement ()>\n",
    "anak=[\"alief\",\"aliya\",\"alisha\"]\n",
    "for i in anak:     # ank itu variable bisa apapun\n",
    "    print(\"helo\", i)"
   ]
  },
  {
   "cell_type": "code",
   "execution_count": 24,
   "metadata": {},
   "outputs": [
    {
     "name": "stdout",
     "output_type": "stream",
     "text": [
      "ini foo\n",
      "ini bar\n",
      "ini baz\n"
     ]
    }
   ],
   "source": [
    "p =[\"foo\",\"bar\",\"baz\"]\n",
    "for var in p:\n",
    "    print (\"ini\",var)"
   ]
  },
  {
   "cell_type": "code",
   "execution_count": 29,
   "metadata": {},
   "outputs": [
    {
     "name": "stdout",
     "output_type": "stream",
     "text": [
      "{'satu': 1, 'dua': 2, 'tiga': 3}\n",
      "dict_items([('satu', 1), ('dua', 2), ('tiga', 3)])\n",
      "key satu value 1\n",
      "key dua value 2\n",
      "key tiga value 3\n"
     ]
    }
   ],
   "source": [
    "my_dic={\n",
    "    \"satu\":1,\n",
    "    \"dua\":2,\n",
    "    \"tiga\":3\n",
    "}\n",
    "print(my_dic)\n",
    "print(my_dic.items())\n",
    " #untuk dictionary bisa di iterable by key dan valuenya\n",
    "for key, value in my_dic.items():  #item mengandung 2\n",
    "    print (\"key\", key, \"value\", value)"
   ]
  },
  {
   "cell_type": "code",
   "execution_count": 27,
   "metadata": {},
   "outputs": [
    {
     "name": "stdout",
     "output_type": "stream",
     "text": [
      "key: satu\n",
      "key: dua\n",
      "key: tiga\n"
     ]
    }
   ],
   "source": [
    "for key in my_dic.keys():    \n",
    "    print (\"key:\", key)"
   ]
  },
  {
   "cell_type": "code",
   "execution_count": 28,
   "metadata": {},
   "outputs": [
    {
     "name": "stdout",
     "output_type": "stream",
     "text": [
      "values: 1\n",
      "values: 2\n",
      "values: 3\n"
     ]
    }
   ],
   "source": [
    "for value in my_dic.values():\n",
    "    print (\"values:\", value)"
   ]
  },
  {
   "cell_type": "code",
   "execution_count": 30,
   "metadata": {},
   "outputs": [
    {
     "name": "stdout",
     "output_type": "stream",
     "text": [
      "0\n",
      "1\n",
      "2\n",
      "3\n"
     ]
    }
   ],
   "source": [
    "for n in (0,1,2,3):\n",
    "    print(n)"
   ]
  },
  {
   "cell_type": "code",
   "execution_count": 31,
   "metadata": {},
   "outputs": [
    {
     "name": "stdout",
     "output_type": "stream",
     "text": [
      "range(0, 3)\n"
     ]
    }
   ],
   "source": [
    "d =range(3) # dimulai dengan 0 diakhiri (yg diisi)\n",
    "print (d)"
   ]
  },
  {
   "cell_type": "code",
   "execution_count": 35,
   "metadata": {},
   "outputs": [
    {
     "name": "stdout",
     "output_type": "stream",
     "text": [
      "suhu eg 24C atau 24F:24C\n",
      "hasil 75 derajat\n"
     ]
    }
   ],
   "source": [
    "temp= input(\"suhu eg 24C atau 24F:\")\n",
    "degree=int(temp[:-1])\n",
    "i_convert = temp[-1]\n",
    "\n",
    "if i_convert == \"C\":\n",
    "    result = int(round((9*degree/5)+32))\n",
    "elif i_convert == \"F\":\n",
    "    result = int(round((degree-32)*5/9))\n",
    "else:\n",
    "    print(\"input dengan format yg bnr\")\n",
    "    \n",
    "print (\"hasil\", result, \"derajat\")"
   ]
  },
  {
   "cell_type": "code",
   "execution_count": 29,
   "metadata": {
    "scrolled": true
   },
   "outputs": [
    {
     "name": "stdout",
     "output_type": "stream",
     "text": [
      "i: 1 j: 2 k: 3\n",
      "i: 4 j: 5 k: 6\n",
      "i: 7 j: 8 k: 9\n"
     ]
    }
   ],
   "source": [
    "nested_list=[\n",
    "    [1,2,3],\n",
    "    [4,5,6],\n",
    "    [7,8,9]\n",
    "]\n",
    "for i,j,k in nested_list:\n",
    "    print(\"i:\",i,\"j:\",j, \"k:\",k)"
   ]
  },
  {
   "cell_type": "code",
   "execution_count": null,
   "metadata": {},
   "outputs": [],
   "source": []
  }
 ],
 "metadata": {
  "kernelspec": {
   "display_name": "Python 3",
   "language": "python",
   "name": "python3"
  },
  "language_info": {
   "codemirror_mode": {
    "name": "ipython",
    "version": 3
   },
   "file_extension": ".py",
   "mimetype": "text/x-python",
   "name": "python",
   "nbconvert_exporter": "python",
   "pygments_lexer": "ipython3",
   "version": "3.8.3"
  }
 },
 "nbformat": 4,
 "nbformat_minor": 4
}
